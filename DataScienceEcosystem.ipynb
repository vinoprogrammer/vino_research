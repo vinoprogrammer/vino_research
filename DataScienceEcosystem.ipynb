{
 "cells": [
  {
   "cell_type": "markdown",
   "id": "596e6ed6-f972-4884-a2c5-99b9fbf892f4",
   "metadata": {},
   "source": [
    "# Data Science Tools and Ecosystem"
   ]
  },
  {
   "cell_type": "markdown",
   "id": "8d935970-124b-4ff4-a1b4-cbca8dfa1c49",
   "metadata": {},
   "source": [
    "## In this notebook, Data Science Tools and Ecosystem are summarized."
   ]
  },
  {
   "cell_type": "markdown",
   "id": "6cf34551-c270-48a3-88ad-526ff190cb19",
   "metadata": {},
   "source": [
    "**Objectives:**"
   ]
  },
  {
   "cell_type": "markdown",
   "id": "04477357-f5a6-4054-8c64-d5ae6c0002a4",
   "metadata": {},
   "source": [
    "* List popular languages for Data Science\n",
    "* List commonly used libraries used by data scientist\n",
    "* Create a table for data science tools\n",
    "* Evaluate arithmetic expression in python\n"
   ]
  },
  {
   "cell_type": "markdown",
   "id": "63f49285-9f41-4e0d-aa45-072b19797f48",
   "metadata": {},
   "source": [
    "### Some of the popular languages that Data Scientists use are:"
   ]
  },
  {
   "cell_type": "markdown",
   "id": "529baca4-4659-4533-b97b-d7b96bbeac2e",
   "metadata": {},
   "source": [
    "1. Python\n",
    "2. R\n",
    "3. Julia\n",
    "4. Java\n",
    "5. Scala"
   ]
  },
  {
   "cell_type": "markdown",
   "id": "0e0ece59-ffd2-475e-a382-cd72dfbd17d9",
   "metadata": {},
   "source": [
    "### Some of the commonly used libraries used by Data Scientists include:"
   ]
  },
  {
   "cell_type": "markdown",
   "id": "3d469eb6-6fe4-4f06-98cc-43baf242926b",
   "metadata": {},
   "source": [
    "1. Scikit learn\n",
    "2. Numpy\n",
    "3. Pandas\n",
    "4. Tensorflow\n",
    "5. Keras\n",
    "6. Matplotlib\n",
    "7. Seaborn\n",
    "8. ggplot\n"
   ]
  },
  {
   "cell_type": "markdown",
   "id": "1a5fd5f0-0cb1-4a94-8535-f347ac4f63bc",
   "metadata": {},
   "source": [
    "|Data Science Tools|\n",
    "|:----------------:|\n",
    "| Jupyter          |\n",
    "| Apache Spark     |\n",
    "| KNIME            |"
   ]
  },
  {
   "cell_type": "markdown",
   "id": "fe10fca2-3d1c-4802-b931-eb202299cc09",
   "metadata": {},
   "source": [
    "### Below are a few examples of evaluating arithmetic expressions in Python"
   ]
  },
  {
   "cell_type": "code",
   "execution_count": 1,
   "id": "c6953dc8-6cf5-4c54-9424-86fd45f9e54a",
   "metadata": {
    "tags": []
   },
   "outputs": [
    {
     "data": {
      "text/plain": [
       "17"
      ]
     },
     "execution_count": 1,
     "metadata": {},
     "output_type": "execute_result"
    }
   ],
   "source": [
    "# This a simple arithmetic expression to mutiply then add integers\n",
    "(3*4)+5"
   ]
  },
  {
   "cell_type": "code",
   "execution_count": 9,
   "id": "84bbc6a8-9857-451a-8cc7-09a2c8505331",
   "metadata": {
    "tags": []
   },
   "outputs": [
    {
     "name": "stdout",
     "output_type": "stream",
     "text": [
      "3.3333333333333335\n"
     ]
    }
   ],
   "source": [
    "# This will convert 200 minutes to hours by diving by 60\n",
    "min=200\n",
    "hours=(min/60)\n",
    "print(hours)"
   ]
  },
  {
   "cell_type": "code",
   "execution_count": 10,
   "id": "904a4d6f-5243-45de-b257-a40fe97adf3b",
   "metadata": {
    "tags": []
   },
   "outputs": [
    {
     "name": "stdout",
     "output_type": "stream",
     "text": [
      "3\n"
     ]
    }
   ],
   "source": [
    "# This will convert 200 minutes to hours by diving by 60\n",
    "min=200\n",
    "hours=(min//60)\n",
    "print(hours)"
   ]
  },
  {
   "cell_type": "markdown",
   "id": "4ad1af22-5757-4117-9e49-38c1e76d52fb",
   "metadata": {},
   "source": [
    "## Author\n",
    "Vinothini A"
   ]
  },
  {
   "cell_type": "code",
   "execution_count": null,
   "id": "88dac85a-f333-49c4-97ea-89d195d2541f",
   "metadata": {},
   "outputs": [],
   "source": []
  }
 ],
 "metadata": {
  "kernelspec": {
   "display_name": "Python",
   "language": "python",
   "name": "conda-env-python-py"
  },
  "language_info": {
   "codemirror_mode": {
    "name": "ipython",
    "version": 3
   },
   "file_extension": ".py",
   "mimetype": "text/x-python",
   "name": "python",
   "nbconvert_exporter": "python",
   "pygments_lexer": "ipython3",
   "version": "3.7.12"
  }
 },
 "nbformat": 4,
 "nbformat_minor": 5
}
